{
 "cells": [
  {
   "cell_type": "code",
   "execution_count": 1,
   "id": "93083cbe-0b21-433a-9dea-89c72432149a",
   "metadata": {},
   "outputs": [
    {
     "name": "stdout",
     "output_type": "stream",
     "text": [
      "RandomForest Model\n",
      "Mean Squared Error: 0.15949145\n",
      "R^2 Score: 0.6757760735456895\n",
      "\n",
      "Ridge Model\n",
      "Mean Squared Error: 0.1559721131984372\n",
      "R^2 Score: 0.6829303955881428\n",
      "\n"
     ]
    }
   ],
   "source": [
    "import pandas as pd\n",
    "import numpy as np\n",
    "from sklearn.model_selection import train_test_split\n",
    "from sklearn.feature_extraction.text import TfidfVectorizer\n",
    "from sklearn.preprocessing import StandardScaler\n",
    "from sklearn.ensemble import RandomForestRegressor\n",
    "from sklearn.metrics import mean_squared_error, r2_score\n",
    "from sklearn.linear_model import Ridge\n",
    "from sklearn.pipeline import Pipeline\n",
    "from sklearn.compose import ColumnTransformer\n",
    "\n",
    "# Load data\n",
    "data = pd.read_csv('train.csv')\n",
    "\n",
    "# 1. Data Cleaning: Handle missing values\n",
    "data = data.drop(columns=['index', 'review/timeStruct', 'user/birthdayRaw', 'user/birthdayUnix'])\n",
    "data['review/text'] = data['review/text'].fillna('')  # Filling missing review texts with empty strings\n",
    "data['user/gender'] = data['user/gender'].fillna('Unknown')\n",
    "\n",
    "# Filling missing values for user-related columns with median\n",
    "data['user/ageInSeconds'] = data['user/ageInSeconds'].fillna(data['user/ageInSeconds'].median())\n",
    "\n",
    "# 2. Feature Engineering: Process text and numeric columns\n",
    "# TfidfVectorizer for review text\n",
    "tfidf = TfidfVectorizer(max_features=100, stop_words='english')\n",
    "\n",
    "# Combine numerical features\n",
    "numeric_features = ['beer/ABV', 'review/appearance', 'review/aroma', \n",
    "                    'review/palate', 'review/taste', 'user/ageInSeconds']\n",
    "\n",
    "# Scaling numerical features\n",
    "scaler = StandardScaler()\n",
    "\n",
    "# 3. Split the data\n",
    "X = data.drop(columns=['review/overall'])\n",
    "y = data['review/overall']\n",
    "\n",
    "# Preprocessing pipeline: Combine Tfidf and scaling\n",
    "preprocessor = ColumnTransformer(\n",
    "    transformers=[\n",
    "        ('num', scaler, numeric_features),\n",
    "        ('tfidf', tfidf, 'review/text')\n",
    "    ])\n",
    "\n",
    "# Train-Test split\n",
    "X_train, X_test, y_train, y_test = train_test_split(X, y, test_size=0.2, random_state=42)\n",
    "\n",
    "# 4. Modeling: RandomForest and Ridge Regression\n",
    "models = {\n",
    "    \"RandomForest\": RandomForestRegressor(n_estimators=100, random_state=42),\n",
    "    \"Ridge\": Ridge(alpha=1.0)\n",
    "}\n",
    "\n",
    "# Evaluate both models\n",
    "for model_name, model in models.items():\n",
    "    # Create a pipeline with preprocessing and model\n",
    "    pipeline = Pipeline(steps=[('preprocessor', preprocessor), ('model', model)])\n",
    "    pipeline.fit(X_train, y_train)\n",
    "\n",
    "    # Predictions and Evaluation\n",
    "    y_pred = pipeline.predict(X_test)\n",
    "    mse = mean_squared_error(y_test, y_pred)\n",
    "    r2 = r2_score(y_test, y_pred)\n",
    "    \n",
    "    print(f\"{model_name} Model\")\n",
    "    print(f\"Mean Squared Error: {mse}\")\n",
    "    print(f\"R^2 Score: {r2}\\n\")\n"
   ]
  },
  {
   "cell_type": "code",
   "execution_count": null,
   "id": "dd1d72c4-61a1-428d-ad70-00906c91ad99",
   "metadata": {},
   "outputs": [],
   "source": []
  }
 ],
 "metadata": {
  "kernelspec": {
   "display_name": "Python 3 (ipykernel)",
   "language": "python",
   "name": "python3"
  },
  "language_info": {
   "codemirror_mode": {
    "name": "ipython",
    "version": 3
   },
   "file_extension": ".py",
   "mimetype": "text/x-python",
   "name": "python",
   "nbconvert_exporter": "python",
   "pygments_lexer": "ipython3",
   "version": "3.9.13"
  }
 },
 "nbformat": 4,
 "nbformat_minor": 5
}
